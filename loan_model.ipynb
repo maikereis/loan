{
 "cells": [
  {
   "cell_type": "code",
   "execution_count": 171,
   "metadata": {},
   "outputs": [],
   "source": [
    "if '__IPYTHON__' in globals():\n",
    "    from IPython import get_ipython\n",
    "    ipython = get_ipython()\n",
    "    ipython.magic('load_ext autoreload')\n",
    "    ipython.magic('autoreload 2')\n",
    "\n",
    "import numpy as np\n",
    "import pandas as pd\n",
    "\n",
    "from sklearn.ensemble import RandomForestClassifier\n",
    "from sklearn.model_selection import cross_validate, train_test_split\n",
    "from sklearn.pipeline import make_pipeline, make_union\n",
    "from sklearn.compose import make_column_transformer\n",
    "from sklearn.preprocessing import FunctionTransformer\n",
    "from sklearn.impute import SimpleImputer\n",
    "from sklearn.preprocessing import OneHotEncoder, OrdinalEncoder\n",
    "\n",
    "from sklearn import set_config\n",
    "set_config(display=\"diagram\")"
   ]
  },
  {
   "cell_type": "code",
   "execution_count": 172,
   "metadata": {},
   "outputs": [],
   "source": [
    "target = \"Loan_Status\"\n",
    "random_state= 42\n",
    "test_size = 0.3"
   ]
  },
  {
   "cell_type": "markdown",
   "metadata": {},
   "source": [
    "### 1. Import data"
   ]
  },
  {
   "cell_type": "code",
   "execution_count": 173,
   "metadata": {},
   "outputs": [],
   "source": [
    "df = pd.read_csv(\"data/train.csv\")\n",
    "df[\"Loan_Status\"] = df[\"Loan_Status\"].map({\"Y\":1, \"N\":0})\n",
    "\n",
    "X, y = (\n",
    "    df.drop(target, axis=1),\n",
    "    df[[target]],\n",
    ")\n"
   ]
  },
  {
   "cell_type": "code",
   "execution_count": 174,
   "metadata": {},
   "outputs": [
    {
     "data": {
      "text/plain": [
       "Index(['Loan_ID', 'Gender', 'Married', 'Dependents', 'Education',\n",
       "       'Self_Employed', 'ApplicantIncome', 'CoapplicantIncome', 'LoanAmount',\n",
       "       'Loan_Amount_Term', 'Credit_History', 'Property_Area'],\n",
       "      dtype='object')"
      ]
     },
     "execution_count": 174,
     "metadata": {},
     "output_type": "execute_result"
    }
   ],
   "source": [
    "X.columns"
   ]
  },
  {
   "cell_type": "code",
   "execution_count": 175,
   "metadata": {},
   "outputs": [],
   "source": [
    "X_train, X_test, y_train, y_test = train_test_split(X, y, random_state=random_state, test_size=test_size, stratify=y)"
   ]
  },
  {
   "cell_type": "markdown",
   "metadata": {},
   "source": [
    "### 2. Prepare data"
   ]
  },
  {
   "cell_type": "code",
   "execution_count": 176,
   "metadata": {},
   "outputs": [],
   "source": [
    "def discretize_feature_bins(X, bins=[0,1], labels=None):\n",
    "    X = pd.cut(X.flatten(), bins, labels=labels)\n",
    "    return np.array(X).reshape(-1, 1)"
   ]
  },
  {
   "cell_type": "markdown",
   "metadata": {},
   "source": [
    "### 3. Create the Pipeline"
   ]
  },
  {
   "cell_type": "code",
   "execution_count": 178,
   "metadata": {},
   "outputs": [],
   "source": [
    "imputer = make_column_transformer(\n",
    "    (\n",
    "        make_pipeline(\n",
    "            SimpleImputer(strategy=\"most_frequent\"),\n",
    "            OneHotEncoder(handle_unknown=\"ignore\", sparse=False),\n",
    "        ),\n",
    "        [\"Gender\", \"Married\", \"Self_Employed\", \"Credit_History\"],\n",
    "    ),\n",
    "    (\n",
    "        make_pipeline(\n",
    "            SimpleImputer(strategy=\"most_frequent\"),\n",
    "            OrdinalEncoder(),\n",
    "        ),\n",
    "        [\"Dependents\"],\n",
    "    ),\n",
    "    (\n",
    "        SimpleImputer(strategy=\"mean\"),\n",
    "        [\"LoanAmount\"],\n",
    "    ),\n",
    "    (\n",
    "        SimpleImputer(strategy=\"median\"),\n",
    "        [\"Loan_Amount_Term\"],\n",
    "    ),\n",
    "\n",
    ")"
   ]
  },
  {
   "cell_type": "markdown",
   "metadata": {},
   "source": [
    "### 4. Create and evaluate a model"
   ]
  },
  {
   "cell_type": "code",
   "execution_count": 190,
   "metadata": {},
   "outputs": [
    {
     "name": "stdout",
     "output_type": "stream",
     "text": [
      "fit_time: 0.03976154327392578\n",
      "score_time: 0.023997020721435548\n",
      "test_accuracy: 0.7900332225913622\n",
      "test_roc_auc: 0.7149336870026526\n",
      "test_f1: 0.8627916643643158\n",
      "test_neg_brier_score: -0.16948974082655457\n"
     ]
    }
   ],
   "source": [
    "# The model\n",
    "model = RandomForestClassifier(\n",
    "    n_estimators=20,\n",
    "    random_state=random_state,\n",
    "    min_samples_split= 20,\n",
    ")\n",
    "\n",
    "# The final pipeline\n",
    "pipeline = make_pipeline(imputer, model)\n",
    "\n",
    "# Metrics to evaluate the model\n",
    "scoring = (\"accuracy\", \"roc_auc\", \"f1\", \"neg_brier_score\")\n",
    "\n",
    "# Cross validation\n",
    "scores = cross_validate(\n",
    "    pipeline, X_train, np.array(y_train).ravel(), cv=10, scoring=scoring, n_jobs=-1\n",
    ")\n",
    "\n",
    "# Mean value of the metrics\n",
    "for k, v in scores.items():\n",
    "    print(f\"{k}: {v.mean()}\")"
   ]
  }
 ],
 "metadata": {
  "interpreter": {
   "hash": "6c684bbac1711ee96eb4ea849084181282891a93248b0592bf8c1982c07408e5"
  },
  "kernelspec": {
   "display_name": "Python 3.8.10 ('loan')",
   "language": "python",
   "name": "python3"
  },
  "language_info": {
   "codemirror_mode": {
    "name": "ipython",
    "version": 3
   },
   "file_extension": ".py",
   "mimetype": "text/x-python",
   "name": "python",
   "nbconvert_exporter": "python",
   "pygments_lexer": "ipython3",
   "version": "3.8.10"
  },
  "orig_nbformat": 4
 },
 "nbformat": 4,
 "nbformat_minor": 2
}
